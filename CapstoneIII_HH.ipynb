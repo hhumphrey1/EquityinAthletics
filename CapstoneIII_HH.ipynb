{
  "nbformat": 4,
  "nbformat_minor": 0,
  "metadata": {
    "colab": {
      "provenance": [],
      "toc_visible": true,
      "include_colab_link": true
    },
    "kernelspec": {
      "name": "python3",
      "display_name": "Python 3"
    },
    "language_info": {
      "name": "python"
    }
  },
  "cells": [
    {
      "cell_type": "markdown",
      "metadata": {
        "id": "view-in-github",
        "colab_type": "text"
      },
      "source": [
        "<a href=\"https://colab.research.google.com/github/hhumphrey1/EquityinAthletics/blob/main/CapstoneIII_HH.ipynb\" target=\"_parent\"><img src=\"https://colab.research.google.com/assets/colab-badge.svg\" alt=\"Open In Colab\"/></a>"
      ]
    },
    {
      "cell_type": "markdown",
      "source": [
        "# Equity In Athletics "
      ],
      "metadata": {
        "id": "LBl6uY-jrK99"
      }
    },
    {
      "cell_type": "markdown",
      "source": [
        "Overview: \n",
        "The goal of this research is to analyze collegiate institutions in the United States to determine if male athletes have a monetary advantage over female athletes in the form of financial aid, recruitment money spent, and head coach salaries.\n",
        "\n",
        "Data collected from US Department of Education. This data comes from the OPE Equity in Athletics Disclosure Website database. https://ope.ed.gov/athletics/#/\n",
        "\n",
        "\n",
        "This database consists of athletics data that are submitted annually as required by the Equity in Athletics Disclosure Act (EADA), via a Web-based data collection, by all co-educational postsecondary institutions that receive Title IV funding (i.e., those that participate in federal student aid programs) and that have an intercollegiate athletics program.\n",
        "\n",
        "This data consists of information from 1271 collegiate institutions in the United States from 2003 - 2021. There are 22,361 records across 25 fields.\n",
        "\n",
        "Goals\n",
        "\n",
        "1. Look at the relationship between financial aid packages received by student athletes. Is there any difference in the financial aid offered to male and female athletes?\n",
        "2. Look at the relationship between recruitment funds spent on collegiate athletes. Is there any difference in funds spent recruiting male athletes versus female athletes?\n",
        "3. Look at the relationship between head coach salaries for men’s teams and women’s teams. Is there any difference in compensation for male teams versus female teams? \n",
        "\n"
      ],
      "metadata": {
        "id": "44_gkS71rmsc"
      }
    },
    {
      "cell_type": "markdown",
      "source": [
        "# Importing the Data"
      ],
      "metadata": {
        "id": "Vb4IhRyutMgK"
      }
    },
    {
      "cell_type": "code",
      "source": [
        "# imports\n",
        "import psycopg2\n",
        "from sqlalchemy import create_engine\n",
        "import pandas as pd\n",
        "from scipy import stats\n",
        "from scipy.stats.stats import ttest_ind\n",
        "\n",
        "# Matplotlib for additional customization\n",
        "from matplotlib import pyplot as plt\n",
        "%matplotlib inline\n",
        "import seaborn as sns \n",
        "sns.set()\n",
        "\n",
        "# supporessing warnings\n",
        "import warnings\n",
        "warnings.filterwarnings(\"ignore\")"
      ],
      "metadata": {
        "id": "Pa2mMnBmOk__"
      },
      "execution_count": null,
      "outputs": []
    },
    {
      "cell_type": "code",
      "execution_count": null,
      "metadata": {
        "colab": {
          "base_uri": "https://localhost:8080/"
        },
        "id": "rZaDalS4qKLu",
        "outputId": "7d3ccb2c-f75c-47ea-a530-dc5640340fc5"
      },
      "outputs": [
        {
          "output_type": "stream",
          "name": "stdout",
          "text": [
            "Mounted at /content/gdrive\n"
          ]
        }
      ],
      "source": [
        "# connecting google drive and google colab\n",
        "from google.colab import drive\n",
        "drive.mount('/content/gdrive')"
      ]
    },
    {
      "cell_type": "code",
      "source": [
        "# creating DataFrame\n",
        "        \n",
        "df = pd.read_csv('/content/gdrive/My Drive/Colab Datasets/Capstone III Equity in Athletics.csv')\n",
        "df.head()"
      ],
      "metadata": {
        "colab": {
          "base_uri": "https://localhost:8080/",
          "height": 473
        },
        "id": "ZJVlxibeqWZH",
        "outputId": "f41355df-467a-499b-a65d-b89f2cfba274"
      },
      "execution_count": null,
      "outputs": [
        {
          "output_type": "execute_result",
          "data": {
            "text/plain": [
              "   Survey Year  UNITID              Institution Name State CD  \\\n",
              "0         2003  222178  Abilene Christian University       TX   \n",
              "1         2003  126182           Adams State College       CO   \n",
              "2         2003  188429            Adelphi University       NY   \n",
              "3         2003  168528                Adrian College       MI   \n",
              "4         2003  100654      Alabama A & M University       AL   \n",
              "\n",
              "                   Classification Name Sanction Name  Male Undergraduates  \\\n",
              "0     NCAA Division II (with football)          NCAA               1741.0   \n",
              "1     NCAA Division II (with football)          NCAA                746.0   \n",
              "2  NCAA Division II (without football)          NCAA               1026.0   \n",
              "3    NCAA Division III (with football)          NCAA                439.0   \n",
              "4                   NCAA Division I-AA          NCAA               2362.0   \n",
              "\n",
              "   Female Undergraduates  Total Undergraduates  \\\n",
              "0                 2136.0                3877.0   \n",
              "1                  872.0                1618.0   \n",
              "2                 2402.0                3428.0   \n",
              "3                  547.0                 986.0   \n",
              "4                 2584.0                4946.0   \n",
              "\n",
              "   Total Men's Team Participation  ...   Men's Team Athletic Student Aid   \\\n",
              "0                           229.0  ...                     $1,362,552.00    \n",
              "1                           241.0  ...                       $452,266.00    \n",
              "2                           149.0  ...                       $944,162.00    \n",
              "3                           238.0  ...                              $-      \n",
              "4                           216.0  ...                     $1,146,740.00    \n",
              "\n",
              "   Women's Team Athletic Student Aid    Men's Team Recruiting Expenses   \\\n",
              "0                        $816,817.00                        $53,474.00    \n",
              "1                        $314,099.00                         $4,620.00    \n",
              "2                        $783,270.00                         $7,323.00    \n",
              "3                               $-                          $10,491.00    \n",
              "4                        $626,539.00                        $61,625.00    \n",
              "\n",
              "   Women's Team Recruiting Expenses    Total Men's Team Operating Expenses   \\\n",
              "0                        $12,450.00                            $359,819.00    \n",
              "1                         $3,200.00                            $144,471.00    \n",
              "2                         $5,697.00                            $230,246.00    \n",
              "3                         $6,852.00                            $295,147.00    \n",
              "4                        $11,243.00                            $759,135.00    \n",
              "\n",
              "   Total Women's Team Operating Expenses   Grand Total Operating Expenses   \\\n",
              "0                            $216,521.00                      $576,340.00    \n",
              "1                            $101,109.00                      $245,580.00    \n",
              "2                            $192,115.00                      $422,361.00    \n",
              "3                            $114,812.00                      $409,959.00    \n",
              "4                            $323,137.00                    $1,082,272.00    \n",
              "\n",
              "   Total Men's Team Expenses   Total Women's Team Expenses   \\\n",
              "0              $2,684,768.00                 $1,460,907.00    \n",
              "1                $912,866.00                   $688,523.00    \n",
              "2              $1,102,805.00                   $932,825.00    \n",
              "3                $342,035.00                   $123,490.00    \n",
              "4              $3,251,174.00                 $1,348,822.00    \n",
              "\n",
              "   Grand Total Expenses   \n",
              "0         $4,849,383.00   \n",
              "1         $1,722,680.00   \n",
              "2         $3,023,868.00   \n",
              "3           $697,697.00   \n",
              "4         $6,738,484.00   \n",
              "\n",
              "[5 rows x 25 columns]"
            ],
            "text/html": [
              "\n",
              "  <div id=\"df-c133f582-8407-4776-af65-f39e555d273e\">\n",
              "    <div class=\"colab-df-container\">\n",
              "      <div>\n",
              "<style scoped>\n",
              "    .dataframe tbody tr th:only-of-type {\n",
              "        vertical-align: middle;\n",
              "    }\n",
              "\n",
              "    .dataframe tbody tr th {\n",
              "        vertical-align: top;\n",
              "    }\n",
              "\n",
              "    .dataframe thead th {\n",
              "        text-align: right;\n",
              "    }\n",
              "</style>\n",
              "<table border=\"1\" class=\"dataframe\">\n",
              "  <thead>\n",
              "    <tr style=\"text-align: right;\">\n",
              "      <th></th>\n",
              "      <th>Survey Year</th>\n",
              "      <th>UNITID</th>\n",
              "      <th>Institution Name</th>\n",
              "      <th>State CD</th>\n",
              "      <th>Classification Name</th>\n",
              "      <th>Sanction Name</th>\n",
              "      <th>Male Undergraduates</th>\n",
              "      <th>Female Undergraduates</th>\n",
              "      <th>Total Undergraduates</th>\n",
              "      <th>Total Men's Team Participation</th>\n",
              "      <th>...</th>\n",
              "      <th>Men's Team Athletic Student Aid</th>\n",
              "      <th>Women's Team Athletic Student Aid</th>\n",
              "      <th>Men's Team Recruiting Expenses</th>\n",
              "      <th>Women's Team Recruiting Expenses</th>\n",
              "      <th>Total Men's Team Operating Expenses</th>\n",
              "      <th>Total Women's Team Operating Expenses</th>\n",
              "      <th>Grand Total Operating Expenses</th>\n",
              "      <th>Total Men's Team Expenses</th>\n",
              "      <th>Total Women's Team Expenses</th>\n",
              "      <th>Grand Total Expenses</th>\n",
              "    </tr>\n",
              "  </thead>\n",
              "  <tbody>\n",
              "    <tr>\n",
              "      <th>0</th>\n",
              "      <td>2003</td>\n",
              "      <td>222178</td>\n",
              "      <td>Abilene Christian University</td>\n",
              "      <td>TX</td>\n",
              "      <td>NCAA Division II (with football)</td>\n",
              "      <td>NCAA</td>\n",
              "      <td>1741.0</td>\n",
              "      <td>2136.0</td>\n",
              "      <td>3877.0</td>\n",
              "      <td>229.0</td>\n",
              "      <td>...</td>\n",
              "      <td>$1,362,552.00</td>\n",
              "      <td>$816,817.00</td>\n",
              "      <td>$53,474.00</td>\n",
              "      <td>$12,450.00</td>\n",
              "      <td>$359,819.00</td>\n",
              "      <td>$216,521.00</td>\n",
              "      <td>$576,340.00</td>\n",
              "      <td>$2,684,768.00</td>\n",
              "      <td>$1,460,907.00</td>\n",
              "      <td>$4,849,383.00</td>\n",
              "    </tr>\n",
              "    <tr>\n",
              "      <th>1</th>\n",
              "      <td>2003</td>\n",
              "      <td>126182</td>\n",
              "      <td>Adams State College</td>\n",
              "      <td>CO</td>\n",
              "      <td>NCAA Division II (with football)</td>\n",
              "      <td>NCAA</td>\n",
              "      <td>746.0</td>\n",
              "      <td>872.0</td>\n",
              "      <td>1618.0</td>\n",
              "      <td>241.0</td>\n",
              "      <td>...</td>\n",
              "      <td>$452,266.00</td>\n",
              "      <td>$314,099.00</td>\n",
              "      <td>$4,620.00</td>\n",
              "      <td>$3,200.00</td>\n",
              "      <td>$144,471.00</td>\n",
              "      <td>$101,109.00</td>\n",
              "      <td>$245,580.00</td>\n",
              "      <td>$912,866.00</td>\n",
              "      <td>$688,523.00</td>\n",
              "      <td>$1,722,680.00</td>\n",
              "    </tr>\n",
              "    <tr>\n",
              "      <th>2</th>\n",
              "      <td>2003</td>\n",
              "      <td>188429</td>\n",
              "      <td>Adelphi University</td>\n",
              "      <td>NY</td>\n",
              "      <td>NCAA Division II (without football)</td>\n",
              "      <td>NCAA</td>\n",
              "      <td>1026.0</td>\n",
              "      <td>2402.0</td>\n",
              "      <td>3428.0</td>\n",
              "      <td>149.0</td>\n",
              "      <td>...</td>\n",
              "      <td>$944,162.00</td>\n",
              "      <td>$783,270.00</td>\n",
              "      <td>$7,323.00</td>\n",
              "      <td>$5,697.00</td>\n",
              "      <td>$230,246.00</td>\n",
              "      <td>$192,115.00</td>\n",
              "      <td>$422,361.00</td>\n",
              "      <td>$1,102,805.00</td>\n",
              "      <td>$932,825.00</td>\n",
              "      <td>$3,023,868.00</td>\n",
              "    </tr>\n",
              "    <tr>\n",
              "      <th>3</th>\n",
              "      <td>2003</td>\n",
              "      <td>168528</td>\n",
              "      <td>Adrian College</td>\n",
              "      <td>MI</td>\n",
              "      <td>NCAA Division III (with football)</td>\n",
              "      <td>NCAA</td>\n",
              "      <td>439.0</td>\n",
              "      <td>547.0</td>\n",
              "      <td>986.0</td>\n",
              "      <td>238.0</td>\n",
              "      <td>...</td>\n",
              "      <td>$-</td>\n",
              "      <td>$-</td>\n",
              "      <td>$10,491.00</td>\n",
              "      <td>$6,852.00</td>\n",
              "      <td>$295,147.00</td>\n",
              "      <td>$114,812.00</td>\n",
              "      <td>$409,959.00</td>\n",
              "      <td>$342,035.00</td>\n",
              "      <td>$123,490.00</td>\n",
              "      <td>$697,697.00</td>\n",
              "    </tr>\n",
              "    <tr>\n",
              "      <th>4</th>\n",
              "      <td>2003</td>\n",
              "      <td>100654</td>\n",
              "      <td>Alabama A &amp; M University</td>\n",
              "      <td>AL</td>\n",
              "      <td>NCAA Division I-AA</td>\n",
              "      <td>NCAA</td>\n",
              "      <td>2362.0</td>\n",
              "      <td>2584.0</td>\n",
              "      <td>4946.0</td>\n",
              "      <td>216.0</td>\n",
              "      <td>...</td>\n",
              "      <td>$1,146,740.00</td>\n",
              "      <td>$626,539.00</td>\n",
              "      <td>$61,625.00</td>\n",
              "      <td>$11,243.00</td>\n",
              "      <td>$759,135.00</td>\n",
              "      <td>$323,137.00</td>\n",
              "      <td>$1,082,272.00</td>\n",
              "      <td>$3,251,174.00</td>\n",
              "      <td>$1,348,822.00</td>\n",
              "      <td>$6,738,484.00</td>\n",
              "    </tr>\n",
              "  </tbody>\n",
              "</table>\n",
              "<p>5 rows × 25 columns</p>\n",
              "</div>\n",
              "      <button class=\"colab-df-convert\" onclick=\"convertToInteractive('df-c133f582-8407-4776-af65-f39e555d273e')\"\n",
              "              title=\"Convert this dataframe to an interactive table.\"\n",
              "              style=\"display:none;\">\n",
              "        \n",
              "  <svg xmlns=\"http://www.w3.org/2000/svg\" height=\"24px\"viewBox=\"0 0 24 24\"\n",
              "       width=\"24px\">\n",
              "    <path d=\"M0 0h24v24H0V0z\" fill=\"none\"/>\n",
              "    <path d=\"M18.56 5.44l.94 2.06.94-2.06 2.06-.94-2.06-.94-.94-2.06-.94 2.06-2.06.94zm-11 1L8.5 8.5l.94-2.06 2.06-.94-2.06-.94L8.5 2.5l-.94 2.06-2.06.94zm10 10l.94 2.06.94-2.06 2.06-.94-2.06-.94-.94-2.06-.94 2.06-2.06.94z\"/><path d=\"M17.41 7.96l-1.37-1.37c-.4-.4-.92-.59-1.43-.59-.52 0-1.04.2-1.43.59L10.3 9.45l-7.72 7.72c-.78.78-.78 2.05 0 2.83L4 21.41c.39.39.9.59 1.41.59.51 0 1.02-.2 1.41-.59l7.78-7.78 2.81-2.81c.8-.78.8-2.07 0-2.86zM5.41 20L4 18.59l7.72-7.72 1.47 1.35L5.41 20z\"/>\n",
              "  </svg>\n",
              "      </button>\n",
              "      \n",
              "  <style>\n",
              "    .colab-df-container {\n",
              "      display:flex;\n",
              "      flex-wrap:wrap;\n",
              "      gap: 12px;\n",
              "    }\n",
              "\n",
              "    .colab-df-convert {\n",
              "      background-color: #E8F0FE;\n",
              "      border: none;\n",
              "      border-radius: 50%;\n",
              "      cursor: pointer;\n",
              "      display: none;\n",
              "      fill: #1967D2;\n",
              "      height: 32px;\n",
              "      padding: 0 0 0 0;\n",
              "      width: 32px;\n",
              "    }\n",
              "\n",
              "    .colab-df-convert:hover {\n",
              "      background-color: #E2EBFA;\n",
              "      box-shadow: 0px 1px 2px rgba(60, 64, 67, 0.3), 0px 1px 3px 1px rgba(60, 64, 67, 0.15);\n",
              "      fill: #174EA6;\n",
              "    }\n",
              "\n",
              "    [theme=dark] .colab-df-convert {\n",
              "      background-color: #3B4455;\n",
              "      fill: #D2E3FC;\n",
              "    }\n",
              "\n",
              "    [theme=dark] .colab-df-convert:hover {\n",
              "      background-color: #434B5C;\n",
              "      box-shadow: 0px 1px 3px 1px rgba(0, 0, 0, 0.15);\n",
              "      filter: drop-shadow(0px 1px 2px rgba(0, 0, 0, 0.3));\n",
              "      fill: #FFFFFF;\n",
              "    }\n",
              "  </style>\n",
              "\n",
              "      <script>\n",
              "        const buttonEl =\n",
              "          document.querySelector('#df-c133f582-8407-4776-af65-f39e555d273e button.colab-df-convert');\n",
              "        buttonEl.style.display =\n",
              "          google.colab.kernel.accessAllowed ? 'block' : 'none';\n",
              "\n",
              "        async function convertToInteractive(key) {\n",
              "          const element = document.querySelector('#df-c133f582-8407-4776-af65-f39e555d273e');\n",
              "          const dataTable =\n",
              "            await google.colab.kernel.invokeFunction('convertToInteractive',\n",
              "                                                     [key], {});\n",
              "          if (!dataTable) return;\n",
              "\n",
              "          const docLinkHtml = 'Like what you see? Visit the ' +\n",
              "            '<a target=\"_blank\" href=https://colab.research.google.com/notebooks/data_table.ipynb>data table notebook</a>'\n",
              "            + ' to learn more about interactive tables.';\n",
              "          element.innerHTML = '';\n",
              "          dataTable['output_type'] = 'display_data';\n",
              "          await google.colab.output.renderOutput(dataTable, element);\n",
              "          const docLink = document.createElement('div');\n",
              "          docLink.innerHTML = docLinkHtml;\n",
              "          element.appendChild(docLink);\n",
              "        }\n",
              "      </script>\n",
              "    </div>\n",
              "  </div>\n",
              "  "
            ]
          },
          "metadata": {},
          "execution_count": 4
        }
      ]
    },
    {
      "cell_type": "markdown",
      "source": [
        "# Data Exploration"
      ],
      "metadata": {
        "id": "gFYW2kLDtd8I"
      }
    },
    {
      "cell_type": "code",
      "source": [
        "df.info()"
      ],
      "metadata": {
        "colab": {
          "base_uri": "https://localhost:8080/"
        },
        "id": "H_5QquRpS1W6",
        "outputId": "6f0d7819-6def-469a-e18c-63475bb032aa"
      },
      "execution_count": null,
      "outputs": [
        {
          "output_type": "stream",
          "name": "stdout",
          "text": [
            "<class 'pandas.core.frame.DataFrame'>\n",
            "RangeIndex: 22360 entries, 0 to 22359\n",
            "Data columns (total 25 columns):\n",
            " #   Column                                                              Non-Null Count  Dtype  \n",
            "---  ------                                                              --------------  -----  \n",
            " 0   Survey Year                                                         22360 non-null  int64  \n",
            " 1   UNITID                                                              22360 non-null  int64  \n",
            " 2   Institution Name                                                    22360 non-null  object \n",
            " 3   State CD                                                            22360 non-null  object \n",
            " 4   Classification Name                                                 22347 non-null  object \n",
            " 5   Sanction Name                                                       22360 non-null  object \n",
            " 6   Male Undergraduates                                                 22355 non-null  float64\n",
            " 7   Female Undergraduates                                               22355 non-null  float64\n",
            " 8   Total Undergraduates                                                22355 non-null  float64\n",
            " 9   Total Men's Team Participation                                      22359 non-null  float64\n",
            " 10  Total Women's Team Participation                                    22359 non-null  float64\n",
            " 11   Men's Team Average Annual Institutional Salary per Head Coach      22179 non-null  object \n",
            " 12  Men's Team Number of Head Coaches Included in Average               22178 non-null  float64\n",
            " 13    Women's Team Average Annual Institutional Salary per Head Coach   22340 non-null  object \n",
            " 14  Women's Team Number of Head Coaches Included in Average             22339 non-null  float64\n",
            " 15   Men's Team Athletic Student Aid                                    22168 non-null  object \n",
            " 16   Women's Team Athletic Student Aid                                  22321 non-null  object \n",
            " 17   Men's Team Recruiting Expenses                                     22164 non-null  object \n",
            " 18   Women's Team Recruiting Expenses                                   22322 non-null  object \n",
            " 19   Total Men's Team Operating Expenses                                22350 non-null  object \n",
            " 20   Total Women's Team Operating Expenses                              22350 non-null  object \n",
            " 21   Grand Total Operating Expenses                                     22358 non-null  object \n",
            " 22   Total Men's Team Expenses                                          22359 non-null  object \n",
            " 23   Total Women's Team Expenses                                        22359 non-null  object \n",
            " 24   Grand Total Expenses                                               22360 non-null  object \n",
            "dtypes: float64(7), int64(2), object(16)\n",
            "memory usage: 4.3+ MB\n"
          ]
        }
      ]
    },
    {
      "cell_type": "markdown",
      "source": [
        "Looking at the DataFrame"
      ],
      "metadata": {
        "id": "PSTDHaIhTYPQ"
      }
    },
    {
      "cell_type": "code",
      "source": [
        "df.head()"
      ],
      "metadata": {
        "colab": {
          "base_uri": "https://localhost:8080/",
          "height": 473
        },
        "id": "3rXqRHVXTct9",
        "outputId": "f948313f-f93f-4ef6-f478-33c7f1f52c53"
      },
      "execution_count": null,
      "outputs": [
        {
          "output_type": "execute_result",
          "data": {
            "text/plain": [
              "   Survey Year  UNITID              Institution Name State CD  \\\n",
              "0         2003  222178  Abilene Christian University       TX   \n",
              "1         2003  126182           Adams State College       CO   \n",
              "2         2003  188429            Adelphi University       NY   \n",
              "3         2003  168528                Adrian College       MI   \n",
              "4         2003  100654      Alabama A & M University       AL   \n",
              "\n",
              "                   Classification Name Sanction Name  Male Undergraduates  \\\n",
              "0     NCAA Division II (with football)          NCAA               1741.0   \n",
              "1     NCAA Division II (with football)          NCAA                746.0   \n",
              "2  NCAA Division II (without football)          NCAA               1026.0   \n",
              "3    NCAA Division III (with football)          NCAA                439.0   \n",
              "4                   NCAA Division I-AA          NCAA               2362.0   \n",
              "\n",
              "   Female Undergraduates  Total Undergraduates  \\\n",
              "0                 2136.0                3877.0   \n",
              "1                  872.0                1618.0   \n",
              "2                 2402.0                3428.0   \n",
              "3                  547.0                 986.0   \n",
              "4                 2584.0                4946.0   \n",
              "\n",
              "   Total Men's Team Participation  ...   Men's Team Athletic Student Aid   \\\n",
              "0                           229.0  ...                     $1,362,552.00    \n",
              "1                           241.0  ...                       $452,266.00    \n",
              "2                           149.0  ...                       $944,162.00    \n",
              "3                           238.0  ...                              $-      \n",
              "4                           216.0  ...                     $1,146,740.00    \n",
              "\n",
              "   Women's Team Athletic Student Aid    Men's Team Recruiting Expenses   \\\n",
              "0                        $816,817.00                        $53,474.00    \n",
              "1                        $314,099.00                         $4,620.00    \n",
              "2                        $783,270.00                         $7,323.00    \n",
              "3                               $-                          $10,491.00    \n",
              "4                        $626,539.00                        $61,625.00    \n",
              "\n",
              "   Women's Team Recruiting Expenses    Total Men's Team Operating Expenses   \\\n",
              "0                        $12,450.00                            $359,819.00    \n",
              "1                         $3,200.00                            $144,471.00    \n",
              "2                         $5,697.00                            $230,246.00    \n",
              "3                         $6,852.00                            $295,147.00    \n",
              "4                        $11,243.00                            $759,135.00    \n",
              "\n",
              "   Total Women's Team Operating Expenses   Grand Total Operating Expenses   \\\n",
              "0                            $216,521.00                      $576,340.00    \n",
              "1                            $101,109.00                      $245,580.00    \n",
              "2                            $192,115.00                      $422,361.00    \n",
              "3                            $114,812.00                      $409,959.00    \n",
              "4                            $323,137.00                    $1,082,272.00    \n",
              "\n",
              "   Total Men's Team Expenses   Total Women's Team Expenses   \\\n",
              "0              $2,684,768.00                 $1,460,907.00    \n",
              "1                $912,866.00                   $688,523.00    \n",
              "2              $1,102,805.00                   $932,825.00    \n",
              "3                $342,035.00                   $123,490.00    \n",
              "4              $3,251,174.00                 $1,348,822.00    \n",
              "\n",
              "   Grand Total Expenses   \n",
              "0         $4,849,383.00   \n",
              "1         $1,722,680.00   \n",
              "2         $3,023,868.00   \n",
              "3           $697,697.00   \n",
              "4         $6,738,484.00   \n",
              "\n",
              "[5 rows x 25 columns]"
            ],
            "text/html": [
              "\n",
              "  <div id=\"df-f61794b9-faac-4dfd-8978-5c19b18a49f3\">\n",
              "    <div class=\"colab-df-container\">\n",
              "      <div>\n",
              "<style scoped>\n",
              "    .dataframe tbody tr th:only-of-type {\n",
              "        vertical-align: middle;\n",
              "    }\n",
              "\n",
              "    .dataframe tbody tr th {\n",
              "        vertical-align: top;\n",
              "    }\n",
              "\n",
              "    .dataframe thead th {\n",
              "        text-align: right;\n",
              "    }\n",
              "</style>\n",
              "<table border=\"1\" class=\"dataframe\">\n",
              "  <thead>\n",
              "    <tr style=\"text-align: right;\">\n",
              "      <th></th>\n",
              "      <th>Survey Year</th>\n",
              "      <th>UNITID</th>\n",
              "      <th>Institution Name</th>\n",
              "      <th>State CD</th>\n",
              "      <th>Classification Name</th>\n",
              "      <th>Sanction Name</th>\n",
              "      <th>Male Undergraduates</th>\n",
              "      <th>Female Undergraduates</th>\n",
              "      <th>Total Undergraduates</th>\n",
              "      <th>Total Men's Team Participation</th>\n",
              "      <th>...</th>\n",
              "      <th>Men's Team Athletic Student Aid</th>\n",
              "      <th>Women's Team Athletic Student Aid</th>\n",
              "      <th>Men's Team Recruiting Expenses</th>\n",
              "      <th>Women's Team Recruiting Expenses</th>\n",
              "      <th>Total Men's Team Operating Expenses</th>\n",
              "      <th>Total Women's Team Operating Expenses</th>\n",
              "      <th>Grand Total Operating Expenses</th>\n",
              "      <th>Total Men's Team Expenses</th>\n",
              "      <th>Total Women's Team Expenses</th>\n",
              "      <th>Grand Total Expenses</th>\n",
              "    </tr>\n",
              "  </thead>\n",
              "  <tbody>\n",
              "    <tr>\n",
              "      <th>0</th>\n",
              "      <td>2003</td>\n",
              "      <td>222178</td>\n",
              "      <td>Abilene Christian University</td>\n",
              "      <td>TX</td>\n",
              "      <td>NCAA Division II (with football)</td>\n",
              "      <td>NCAA</td>\n",
              "      <td>1741.0</td>\n",
              "      <td>2136.0</td>\n",
              "      <td>3877.0</td>\n",
              "      <td>229.0</td>\n",
              "      <td>...</td>\n",
              "      <td>$1,362,552.00</td>\n",
              "      <td>$816,817.00</td>\n",
              "      <td>$53,474.00</td>\n",
              "      <td>$12,450.00</td>\n",
              "      <td>$359,819.00</td>\n",
              "      <td>$216,521.00</td>\n",
              "      <td>$576,340.00</td>\n",
              "      <td>$2,684,768.00</td>\n",
              "      <td>$1,460,907.00</td>\n",
              "      <td>$4,849,383.00</td>\n",
              "    </tr>\n",
              "    <tr>\n",
              "      <th>1</th>\n",
              "      <td>2003</td>\n",
              "      <td>126182</td>\n",
              "      <td>Adams State College</td>\n",
              "      <td>CO</td>\n",
              "      <td>NCAA Division II (with football)</td>\n",
              "      <td>NCAA</td>\n",
              "      <td>746.0</td>\n",
              "      <td>872.0</td>\n",
              "      <td>1618.0</td>\n",
              "      <td>241.0</td>\n",
              "      <td>...</td>\n",
              "      <td>$452,266.00</td>\n",
              "      <td>$314,099.00</td>\n",
              "      <td>$4,620.00</td>\n",
              "      <td>$3,200.00</td>\n",
              "      <td>$144,471.00</td>\n",
              "      <td>$101,109.00</td>\n",
              "      <td>$245,580.00</td>\n",
              "      <td>$912,866.00</td>\n",
              "      <td>$688,523.00</td>\n",
              "      <td>$1,722,680.00</td>\n",
              "    </tr>\n",
              "    <tr>\n",
              "      <th>2</th>\n",
              "      <td>2003</td>\n",
              "      <td>188429</td>\n",
              "      <td>Adelphi University</td>\n",
              "      <td>NY</td>\n",
              "      <td>NCAA Division II (without football)</td>\n",
              "      <td>NCAA</td>\n",
              "      <td>1026.0</td>\n",
              "      <td>2402.0</td>\n",
              "      <td>3428.0</td>\n",
              "      <td>149.0</td>\n",
              "      <td>...</td>\n",
              "      <td>$944,162.00</td>\n",
              "      <td>$783,270.00</td>\n",
              "      <td>$7,323.00</td>\n",
              "      <td>$5,697.00</td>\n",
              "      <td>$230,246.00</td>\n",
              "      <td>$192,115.00</td>\n",
              "      <td>$422,361.00</td>\n",
              "      <td>$1,102,805.00</td>\n",
              "      <td>$932,825.00</td>\n",
              "      <td>$3,023,868.00</td>\n",
              "    </tr>\n",
              "    <tr>\n",
              "      <th>3</th>\n",
              "      <td>2003</td>\n",
              "      <td>168528</td>\n",
              "      <td>Adrian College</td>\n",
              "      <td>MI</td>\n",
              "      <td>NCAA Division III (with football)</td>\n",
              "      <td>NCAA</td>\n",
              "      <td>439.0</td>\n",
              "      <td>547.0</td>\n",
              "      <td>986.0</td>\n",
              "      <td>238.0</td>\n",
              "      <td>...</td>\n",
              "      <td>$-</td>\n",
              "      <td>$-</td>\n",
              "      <td>$10,491.00</td>\n",
              "      <td>$6,852.00</td>\n",
              "      <td>$295,147.00</td>\n",
              "      <td>$114,812.00</td>\n",
              "      <td>$409,959.00</td>\n",
              "      <td>$342,035.00</td>\n",
              "      <td>$123,490.00</td>\n",
              "      <td>$697,697.00</td>\n",
              "    </tr>\n",
              "    <tr>\n",
              "      <th>4</th>\n",
              "      <td>2003</td>\n",
              "      <td>100654</td>\n",
              "      <td>Alabama A &amp; M University</td>\n",
              "      <td>AL</td>\n",
              "      <td>NCAA Division I-AA</td>\n",
              "      <td>NCAA</td>\n",
              "      <td>2362.0</td>\n",
              "      <td>2584.0</td>\n",
              "      <td>4946.0</td>\n",
              "      <td>216.0</td>\n",
              "      <td>...</td>\n",
              "      <td>$1,146,740.00</td>\n",
              "      <td>$626,539.00</td>\n",
              "      <td>$61,625.00</td>\n",
              "      <td>$11,243.00</td>\n",
              "      <td>$759,135.00</td>\n",
              "      <td>$323,137.00</td>\n",
              "      <td>$1,082,272.00</td>\n",
              "      <td>$3,251,174.00</td>\n",
              "      <td>$1,348,822.00</td>\n",
              "      <td>$6,738,484.00</td>\n",
              "    </tr>\n",
              "  </tbody>\n",
              "</table>\n",
              "<p>5 rows × 25 columns</p>\n",
              "</div>\n",
              "      <button class=\"colab-df-convert\" onclick=\"convertToInteractive('df-f61794b9-faac-4dfd-8978-5c19b18a49f3')\"\n",
              "              title=\"Convert this dataframe to an interactive table.\"\n",
              "              style=\"display:none;\">\n",
              "        \n",
              "  <svg xmlns=\"http://www.w3.org/2000/svg\" height=\"24px\"viewBox=\"0 0 24 24\"\n",
              "       width=\"24px\">\n",
              "    <path d=\"M0 0h24v24H0V0z\" fill=\"none\"/>\n",
              "    <path d=\"M18.56 5.44l.94 2.06.94-2.06 2.06-.94-2.06-.94-.94-2.06-.94 2.06-2.06.94zm-11 1L8.5 8.5l.94-2.06 2.06-.94-2.06-.94L8.5 2.5l-.94 2.06-2.06.94zm10 10l.94 2.06.94-2.06 2.06-.94-2.06-.94-.94-2.06-.94 2.06-2.06.94z\"/><path d=\"M17.41 7.96l-1.37-1.37c-.4-.4-.92-.59-1.43-.59-.52 0-1.04.2-1.43.59L10.3 9.45l-7.72 7.72c-.78.78-.78 2.05 0 2.83L4 21.41c.39.39.9.59 1.41.59.51 0 1.02-.2 1.41-.59l7.78-7.78 2.81-2.81c.8-.78.8-2.07 0-2.86zM5.41 20L4 18.59l7.72-7.72 1.47 1.35L5.41 20z\"/>\n",
              "  </svg>\n",
              "      </button>\n",
              "      \n",
              "  <style>\n",
              "    .colab-df-container {\n",
              "      display:flex;\n",
              "      flex-wrap:wrap;\n",
              "      gap: 12px;\n",
              "    }\n",
              "\n",
              "    .colab-df-convert {\n",
              "      background-color: #E8F0FE;\n",
              "      border: none;\n",
              "      border-radius: 50%;\n",
              "      cursor: pointer;\n",
              "      display: none;\n",
              "      fill: #1967D2;\n",
              "      height: 32px;\n",
              "      padding: 0 0 0 0;\n",
              "      width: 32px;\n",
              "    }\n",
              "\n",
              "    .colab-df-convert:hover {\n",
              "      background-color: #E2EBFA;\n",
              "      box-shadow: 0px 1px 2px rgba(60, 64, 67, 0.3), 0px 1px 3px 1px rgba(60, 64, 67, 0.15);\n",
              "      fill: #174EA6;\n",
              "    }\n",
              "\n",
              "    [theme=dark] .colab-df-convert {\n",
              "      background-color: #3B4455;\n",
              "      fill: #D2E3FC;\n",
              "    }\n",
              "\n",
              "    [theme=dark] .colab-df-convert:hover {\n",
              "      background-color: #434B5C;\n",
              "      box-shadow: 0px 1px 3px 1px rgba(0, 0, 0, 0.15);\n",
              "      filter: drop-shadow(0px 1px 2px rgba(0, 0, 0, 0.3));\n",
              "      fill: #FFFFFF;\n",
              "    }\n",
              "  </style>\n",
              "\n",
              "      <script>\n",
              "        const buttonEl =\n",
              "          document.querySelector('#df-f61794b9-faac-4dfd-8978-5c19b18a49f3 button.colab-df-convert');\n",
              "        buttonEl.style.display =\n",
              "          google.colab.kernel.accessAllowed ? 'block' : 'none';\n",
              "\n",
              "        async function convertToInteractive(key) {\n",
              "          const element = document.querySelector('#df-f61794b9-faac-4dfd-8978-5c19b18a49f3');\n",
              "          const dataTable =\n",
              "            await google.colab.kernel.invokeFunction('convertToInteractive',\n",
              "                                                     [key], {});\n",
              "          if (!dataTable) return;\n",
              "\n",
              "          const docLinkHtml = 'Like what you see? Visit the ' +\n",
              "            '<a target=\"_blank\" href=https://colab.research.google.com/notebooks/data_table.ipynb>data table notebook</a>'\n",
              "            + ' to learn more about interactive tables.';\n",
              "          element.innerHTML = '';\n",
              "          dataTable['output_type'] = 'display_data';\n",
              "          await google.colab.output.renderOutput(dataTable, element);\n",
              "          const docLink = document.createElement('div');\n",
              "          docLink.innerHTML = docLinkHtml;\n",
              "          element.appendChild(docLink);\n",
              "        }\n",
              "      </script>\n",
              "    </div>\n",
              "  </div>\n",
              "  "
            ]
          },
          "metadata": {},
          "execution_count": 6
        }
      ]
    },
    {
      "cell_type": "markdown",
      "source": [
        "Checking Null Value Categories"
      ],
      "metadata": {
        "id": "w4ONsTCtTksy"
      }
    },
    {
      "cell_type": "code",
      "source": [
        "# finding null values\n",
        "null_cats = df.isnull().sum()\n",
        "print (null_cats)\n",
        "print('The total sum of null values across all categories is {}'.format(df.isnull().sum().sum()))"
      ],
      "metadata": {
        "colab": {
          "base_uri": "https://localhost:8080/"
        },
        "id": "QDKR6vU4TrdT",
        "outputId": "c2b02caf-9b07-4df2-8ed9-b03a45476e35"
      },
      "execution_count": null,
      "outputs": [
        {
          "output_type": "stream",
          "name": "stdout",
          "text": [
            "Survey Year                                                             0\n",
            "UNITID                                                                  0\n",
            "Institution Name                                                        0\n",
            "State CD                                                                0\n",
            "Classification Name                                                    13\n",
            "Sanction Name                                                           0\n",
            "Male Undergraduates                                                     5\n",
            "Female Undergraduates                                                   5\n",
            "Total Undergraduates                                                    5\n",
            "Total Men's Team Participation                                          1\n",
            "Total Women's Team Participation                                        1\n",
            " Men's Team Average Annual Institutional Salary per Head Coach        181\n",
            "Men's Team Number of Head Coaches Included in Average                 182\n",
            "  Women's Team Average Annual Institutional Salary per Head Coach      20\n",
            "Women's Team Number of Head Coaches Included in Average                21\n",
            " Men's Team Athletic Student Aid                                      192\n",
            " Women's Team Athletic Student Aid                                     39\n",
            " Men's Team Recruiting Expenses                                       196\n",
            " Women's Team Recruiting Expenses                                      38\n",
            " Total Men's Team Operating Expenses                                   10\n",
            " Total Women's Team Operating Expenses                                 10\n",
            " Grand Total Operating Expenses                                         2\n",
            " Total Men's Team Expenses                                              1\n",
            " Total Women's Team Expenses                                            1\n",
            " Grand Total Expenses                                                   0\n",
            "dtype: int64\n",
            "The total sum of null values across all categories is 923\n"
          ]
        }
      ]
    },
    {
      "cell_type": "markdown",
      "source": [
        "# Data Cleaning"
      ],
      "metadata": {
        "id": "zcQy0wIuT5U5"
      }
    },
    {
      "cell_type": "markdown",
      "source": [
        "Removing the Nulls from the data set"
      ],
      "metadata": {
        "id": "sOLkEX9yUBhA"
      }
    },
    {
      "cell_type": "code",
      "source": [
        "# removing some of the NaN categories for later statistical analysis\n",
        "# using dropna because the dataset is so large\n",
        "\n",
        "# print original size of the DataFrame\n",
        "print(df.size)\n",
        "\n",
        "# Drop `NaN` rows\n",
        "df = df.dropna()\n",
        "\n",
        "# printing size of the modified DataFrame\n",
        "print(df.size)"
      ],
      "metadata": {
        "colab": {
          "base_uri": "https://localhost:8080/"
        },
        "id": "Ng5ZUqjUT7Tf",
        "outputId": "c6898c2b-0a7d-4396-ef84-eb2e6d0967d7"
      },
      "execution_count": null,
      "outputs": [
        {
          "output_type": "stream",
          "name": "stdout",
          "text": [
            "559000\n",
            "552350\n"
          ]
        }
      ]
    },
    {
      "cell_type": "markdown",
      "source": [
        "Renaming Columns"
      ],
      "metadata": {
        "id": "SeZF_nuTWrrU"
      }
    },
    {
      "cell_type": "code",
      "source": [
        "df.columns"
      ],
      "metadata": {
        "colab": {
          "base_uri": "https://localhost:8080/"
        },
        "id": "yc6sxNCFnC53",
        "outputId": "ecdc04b0-b320-4491-97d1-855efa344afd"
      },
      "execution_count": null,
      "outputs": [
        {
          "output_type": "execute_result",
          "data": {
            "text/plain": [
              "Index(['Survey Year', 'UNITID', 'Institution Name', 'State CD',\n",
              "       'Classification Name', 'Sanction Name', 'Male Undergraduates',\n",
              "       'Female Undergraduates', 'Total Undergraduates',\n",
              "       'Total Men's Team Participation', 'Total Women's Team Participation',\n",
              "       ' Men's Team Average Annual Institutional Salary per Head Coach ',\n",
              "       'Men's Team Number of Head Coaches Included in Average',\n",
              "       '  Women's Team Average Annual Institutional Salary per Head Coach ',\n",
              "       'Women's Team Number of Head Coaches Included in Average',\n",
              "       ' Men's Team Athletic Student Aid ',\n",
              "       ' Women's Team Athletic Student Aid ',\n",
              "       ' Men's Team Recruiting Expenses ',\n",
              "       ' Women's Team Recruiting Expenses ',\n",
              "       ' Total Men's Team Operating Expenses ',\n",
              "       ' Total Women's Team Operating Expenses ',\n",
              "       ' Grand Total Operating Expenses ', ' Total Men's Team Expenses ',\n",
              "       ' Total Women's Team Expenses ', ' Grand Total Expenses '],\n",
              "      dtype='object')"
            ]
          },
          "metadata": {},
          "execution_count": 9
        }
      ]
    },
    {
      "cell_type": "code",
      "source": [
        "# renaming column names\n",
        "df.columns=['Survey_Year', 'UNITID', 'Institution_Name', 'State_CD',\n",
        "       'Classification_Name', 'Sanction_Name', 'Male_Undergraduates',\n",
        "       'Female_Undergraduates', 'Total_Undergraduates',\n",
        "       'Total_Men_Team_Participation', 'Total_Women_Team_Participation',\n",
        "       'Men_Team_Average_Annual_Institutional_Salary_per_Head_Coach',\n",
        "       'Men_Team_Number_of_Head_Coaches_Included_in_Average',\n",
        "       'Women_Team_Average_Annual_Institutional_Salary_per_Head_Coach',\n",
        "       'Women_Team_Number_of_Head_Coaches_Included_in_Average',\n",
        "       'Men_Team_Athletic_Student_Aid',\n",
        "       'Women_Team_Athletic_Student_Aid',\n",
        "       'Men_Team_Recruiting_Expenses',\n",
        "       'Women_Team_Recruiting_Expenses',\n",
        "       'Total_Men_Team_Operating_Expenses',\n",
        "       'Total_Women_Team_Operating_Expenses',\n",
        "       'Grand_Total_Operating_Expenses', 'Total_Men_Team_Expenses',\n",
        "       'Total_Women_Team_Expenses', 'Grand_Total_Expenses']"
      ],
      "metadata": {
        "id": "5GpBfV-ssG8u"
      },
      "execution_count": null,
      "outputs": []
    },
    {
      "cell_type": "code",
      "source": [
        "df.columns"
      ],
      "metadata": {
        "colab": {
          "base_uri": "https://localhost:8080/"
        },
        "id": "CT83z1TMvCLo",
        "outputId": "8c17d193-deec-497d-8c79-43503f038374"
      },
      "execution_count": null,
      "outputs": [
        {
          "output_type": "execute_result",
          "data": {
            "text/plain": [
              "Index(['Survey_Year', 'UNITID', 'Institution_Name', 'State_CD',\n",
              "       'Classification_Name', 'Sanction_Name', 'Male_Undergraduates',\n",
              "       'Female_Undergraduates', 'Total_Undergraduates',\n",
              "       'Total_Men_Team_Participation', 'Total_Women_Team_Participation',\n",
              "       'Men_Team_Average_Annual_Institutional_Salary_per_Head_Coach',\n",
              "       'Men_Team_Number_of_Head_Coaches_Included_in_Average',\n",
              "       'Women_Team_Average_Annual_Institutional_Salary_per_Head_Coach',\n",
              "       'Women_Team_Number_of_Head_Coaches_Included_in_Average',\n",
              "       'Men_Team_Athletic_Student_Aid', 'Women_Team_Athletic_Student_Aid',\n",
              "       'Men_Team_Recruiting_Expenses', 'Women_Team_Recruiting_Expenses',\n",
              "       'Total_Men_Team_Operating_Expenses',\n",
              "       'Total_Women_Team_Operating_Expenses', 'Grand_Total_Operating_Expenses',\n",
              "       'Total_Men_Team_Expenses', 'Total_Women_Team_Expenses',\n",
              "       'Grand_Total_Expenses'],\n",
              "      dtype='object')"
            ]
          },
          "metadata": {},
          "execution_count": 11
        }
      ]
    },
    {
      "cell_type": "markdown",
      "source": [
        "Removing \"$\" from data"
      ],
      "metadata": {
        "id": "ui582kJrwdVk"
      }
    },
    {
      "cell_type": "code",
      "source": [
        "df['Men_Team_Athletic_Student_Aid'] = df['Men_Team_Athletic_Student_Aid'].str.replace('$','')"
      ],
      "metadata": {
        "id": "VYZSCLpO0mBx"
      },
      "execution_count": null,
      "outputs": []
    },
    {
      "cell_type": "code",
      "source": [
        "df['Women_Team_Athletic_Student_Aid'] = df['Women_Team_Athletic_Student_Aid'].str.replace('$','')"
      ],
      "metadata": {
        "id": "fCruASE_3pRP"
      },
      "execution_count": null,
      "outputs": []
    },
    {
      "cell_type": "code",
      "source": [
        "df['Men_Team_Recruiting_Expenses'] = df['Men_Team_Recruiting_Expenses'].str.replace('$','')"
      ],
      "metadata": {
        "id": "Cy3lId4A3szv"
      },
      "execution_count": null,
      "outputs": []
    },
    {
      "cell_type": "code",
      "source": [
        "df['Women_Team_Recruiting_Expenses'] = df['Women_Team_Recruiting_Expenses'].str.replace('$','')"
      ],
      "metadata": {
        "id": "lpM1S-t436L9"
      },
      "execution_count": null,
      "outputs": []
    },
    {
      "cell_type": "code",
      "source": [
        "df['Men_Team_Average_Annual_Institutional_Salary_per_Head_Coach'] = df['Men_Team_Average_Annual_Institutional_Salary_per_Head_Coach'].str.replace('$','')"
      ],
      "metadata": {
        "id": "6uBRDgZH39er"
      },
      "execution_count": null,
      "outputs": []
    },
    {
      "cell_type": "code",
      "source": [
        "df['Women_Team_Average_Annual_Institutional_Salary_per_Head_Coach'] = df['Women_Team_Average_Annual_Institutional_Salary_per_Head_Coach'].str.replace('$','')"
      ],
      "metadata": {
        "id": "W3Og2OkC4K5O"
      },
      "execution_count": null,
      "outputs": []
    },
    {
      "cell_type": "markdown",
      "source": [
        "Removing \",\" from data"
      ],
      "metadata": {
        "id": "WzKv1D2I5isq"
      }
    },
    {
      "cell_type": "code",
      "source": [
        "df['Men_Team_Athletic_Student_Aid'] = df['Men_Team_Athletic_Student_Aid'].str.replace(',','')"
      ],
      "metadata": {
        "id": "wKSjUoC-5k6e"
      },
      "execution_count": null,
      "outputs": []
    },
    {
      "cell_type": "code",
      "source": [
        "df['Women_Team_Athletic_Student_Aid'] = df['Women_Team_Athletic_Student_Aid'].str.replace(',','')"
      ],
      "metadata": {
        "id": "TJw6sMca5zcV"
      },
      "execution_count": null,
      "outputs": []
    },
    {
      "cell_type": "code",
      "source": [
        "df['Men_Team_Recruiting_Expenses'] = df['Men_Team_Recruiting_Expenses'].str.replace(',','')"
      ],
      "metadata": {
        "id": "yNiUausB52Dj"
      },
      "execution_count": null,
      "outputs": []
    },
    {
      "cell_type": "code",
      "source": [
        "df['Women_Team_Recruiting_Expenses'] = df['Women_Team_Recruiting_Expenses'].str.replace(',','')"
      ],
      "metadata": {
        "id": "BPF9TKol55gF"
      },
      "execution_count": null,
      "outputs": []
    },
    {
      "cell_type": "code",
      "source": [
        "df['Men_Team_Average_Annual_Institutional_Salary_per_Head_Coach'] = df['Men_Team_Average_Annual_Institutional_Salary_per_Head_Coach'].str.replace(',','')"
      ],
      "metadata": {
        "id": "eW89uy2Y58uE"
      },
      "execution_count": null,
      "outputs": []
    },
    {
      "cell_type": "code",
      "source": [
        "df['Women_Team_Average_Annual_Institutional_Salary_per_Head_Coach'] = df['Women_Team_Average_Annual_Institutional_Salary_per_Head_Coach'].str.replace(',','')"
      ],
      "metadata": {
        "id": "Y9zjzKWy5_52"
      },
      "execution_count": null,
      "outputs": []
    },
    {
      "cell_type": "markdown",
      "source": [
        "Removing \" - \" from data"
      ],
      "metadata": {
        "id": "-6GeHF_O7Yi4"
      }
    },
    {
      "cell_type": "code",
      "source": [
        "df['Men_Team_Athletic_Student_Aid'] = df['Men_Team_Athletic_Student_Aid'].str.replace(' -   ','0')"
      ],
      "metadata": {
        "id": "hLvjMRP97a9t"
      },
      "execution_count": null,
      "outputs": []
    },
    {
      "cell_type": "code",
      "source": [
        "df['Women_Team_Athletic_Student_Aid'] = df['Women_Team_Athletic_Student_Aid'].str.replace(' -   ','0')"
      ],
      "metadata": {
        "id": "fkNIOz5s7kmo"
      },
      "execution_count": null,
      "outputs": []
    },
    {
      "cell_type": "code",
      "source": [
        "df['Men_Team_Recruiting_Expenses'] = df['Men_Team_Recruiting_Expenses'].str.replace(' -   ','0')"
      ],
      "metadata": {
        "id": "S35MKM857sFU"
      },
      "execution_count": null,
      "outputs": []
    },
    {
      "cell_type": "code",
      "source": [
        "df['Women_Team_Recruiting_Expenses'] = df['Women_Team_Recruiting_Expenses'].str.replace(' -   ','0')"
      ],
      "metadata": {
        "id": "fsgSxRoU7xYe"
      },
      "execution_count": null,
      "outputs": []
    },
    {
      "cell_type": "code",
      "source": [
        "df['Men_Team_Average_Annual_Institutional_Salary_per_Head_Coach'] = df['Men_Team_Average_Annual_Institutional_Salary_per_Head_Coach'].str.replace(' -   ','0')"
      ],
      "metadata": {
        "id": "W7u5uYpb71Rn"
      },
      "execution_count": null,
      "outputs": []
    },
    {
      "cell_type": "code",
      "source": [
        "df['Women_Team_Average_Annual_Institutional_Salary_per_Head_Coach'] = df['Women_Team_Average_Annual_Institutional_Salary_per_Head_Coach'].str.replace(' -   ','0')"
      ],
      "metadata": {
        "id": "1iu_pII_77y6"
      },
      "execution_count": null,
      "outputs": []
    },
    {
      "cell_type": "markdown",
      "source": [
        "Changing Columns from String to Intergers"
      ],
      "metadata": {
        "id": "E11oUWHE9iC1"
      }
    },
    {
      "cell_type": "code",
      "source": [
        "df['Men_Team_Athletic_Student_Aid']=df['Men_Team_Athletic_Student_Aid'].astype('float')"
      ],
      "metadata": {
        "id": "wFRfcdLv9nQS"
      },
      "execution_count": null,
      "outputs": []
    },
    {
      "cell_type": "code",
      "source": [
        "df['Women_Team_Athletic_Student_Aid']=df['Women_Team_Athletic_Student_Aid'].astype('float')"
      ],
      "metadata": {
        "id": "xEB2oU_I9_zm"
      },
      "execution_count": null,
      "outputs": []
    },
    {
      "cell_type": "code",
      "source": [
        "df['Men_Team_Recruiting_Expenses'] = df['Men_Team_Recruiting_Expenses'].astype('float')"
      ],
      "metadata": {
        "id": "j23yqq0u-O7U"
      },
      "execution_count": null,
      "outputs": []
    },
    {
      "cell_type": "code",
      "source": [
        "df['Women_Team_Recruiting_Expenses'] = df['Women_Team_Recruiting_Expenses'].astype('float')"
      ],
      "metadata": {
        "id": "ohMikxXT-V1i"
      },
      "execution_count": null,
      "outputs": []
    },
    {
      "cell_type": "code",
      "source": [
        "df['Men_Team_Average_Annual_Institutional_Salary_per_Head_Coach'] = df['Men_Team_Average_Annual_Institutional_Salary_per_Head_Coach'].astype('float')"
      ],
      "metadata": {
        "id": "0-vy3PUK-l7e"
      },
      "execution_count": null,
      "outputs": []
    },
    {
      "cell_type": "code",
      "source": [
        "df['Women_Team_Average_Annual_Institutional_Salary_per_Head_Coach'] = df['Women_Team_Average_Annual_Institutional_Salary_per_Head_Coach'].astype('float')"
      ],
      "metadata": {
        "id": "LLdEOfbB-ppP"
      },
      "execution_count": null,
      "outputs": []
    },
    {
      "cell_type": "markdown",
      "source": [
        "# Descriptive Statistics"
      ],
      "metadata": {
        "id": "TpzbemjdVmqZ"
      }
    },
    {
      "cell_type": "code",
      "source": [
        "df.describe()"
      ],
      "metadata": {
        "colab": {
          "base_uri": "https://localhost:8080/",
          "height": 364
        },
        "id": "eSjGXL9_Vtqn",
        "outputId": "c461650a-0769-4c30-e0d2-0e9606434b96"
      },
      "execution_count": null,
      "outputs": [
        {
          "output_type": "execute_result",
          "data": {
            "text/plain": [
              "        Survey_Year         UNITID  Male_Undergraduates  \\\n",
              "count  22094.000000   22094.000000         22094.000000   \n",
              "mean    2011.598126  182451.087535          2262.556531   \n",
              "std        5.181042   42982.005758          3011.425843   \n",
              "min     2003.000000  100654.000000             0.000000   \n",
              "25%     2007.000000  153126.000000           546.000000   \n",
              "50%     2012.000000  183026.000000          1002.000000   \n",
              "75%     2016.000000  213507.000000          2623.750000   \n",
              "max     2020.000000  490805.000000         28482.000000   \n",
              "\n",
              "       Female_Undergraduates  Total_Undergraduates  \\\n",
              "count           22094.000000          22094.000000   \n",
              "mean             2671.679279           4934.235811   \n",
              "std              3259.066512           6209.565446   \n",
              "min                 0.000000              0.000000   \n",
              "25%               713.250000           1291.000000   \n",
              "50%              1330.000000           2336.000000   \n",
              "75%              3274.000000           5838.750000   \n",
              "max             28928.000000          57410.000000   \n",
              "\n",
              "       Total_Men_Team_Participation  Total_Women_Team_Participation  \\\n",
              "count                  22094.000000                    22094.000000   \n",
              "mean                     222.681995                      165.513759   \n",
              "std                      114.535601                       88.707469   \n",
              "min                        1.000000                        1.000000   \n",
              "25%                      133.000000                       99.000000   \n",
              "50%                      213.000000                      151.000000   \n",
              "75%                      296.000000                      216.000000   \n",
              "max                     1006.000000                      648.000000   \n",
              "\n",
              "       Men_Team_Average_Annual_Institutional_Salary_per_Head_Coach  \\\n",
              "count                                       2.209400e+04             \n",
              "mean                                        9.275838e+04             \n",
              "std                                         1.909038e+05             \n",
              "min                                         0.000000e+00             \n",
              "25%                                         2.428075e+04             \n",
              "50%                                         3.832450e+04             \n",
              "75%                                         6.937625e+04             \n",
              "max                                         2.624329e+06             \n",
              "\n",
              "       Men_Team_Number_of_Head_Coaches_Included_in_Average  \\\n",
              "count                                       22094.000000     \n",
              "mean                                            6.986422     \n",
              "std                                             2.429823     \n",
              "min                                             0.000000     \n",
              "25%                                             5.000000     \n",
              "50%                                             7.000000     \n",
              "75%                                             8.000000     \n",
              "max                                            23.000000     \n",
              "\n",
              "       Women_Team_Average_Annual_Institutional_Salary_per_Head_Coach  \\\n",
              "count                                       22094.000000               \n",
              "mean                                        44118.259437               \n",
              "std                                         44277.055356               \n",
              "min                                             1.000000               \n",
              "25%                                         20160.500000               \n",
              "50%                                         31906.500000               \n",
              "75%                                         51619.000000               \n",
              "max                                        870241.000000               \n",
              "\n",
              "       Women_Team_Number_of_Head_Coaches_Included_in_Average  \\\n",
              "count                                       22094.000000       \n",
              "mean                                            7.766905       \n",
              "std                                             2.544881       \n",
              "min                                             1.000000       \n",
              "25%                                             6.000000       \n",
              "50%                                             8.000000       \n",
              "75%                                             9.000000       \n",
              "max                                            29.000000       \n",
              "\n",
              "       Men_Team_Athletic_Student_Aid  Women_Team_Athletic_Student_Aid  \\\n",
              "count                   2.209400e+04                     2.209400e+04   \n",
              "mean                    1.251497e+06                     1.033249e+06   \n",
              "std                     1.773941e+06                     1.480782e+06   \n",
              "min                     0.000000e+00                     0.000000e+00   \n",
              "25%                     0.000000e+00                     0.000000e+00   \n",
              "50%                     6.249295e+05                     4.894400e+05   \n",
              "75%                     1.718409e+06                     1.428965e+06   \n",
              "max                     1.563344e+07                     1.344501e+07   \n",
              "\n",
              "       Men_Team_Recruiting_Expenses  Women_Team_Recruiting_Expenses  \n",
              "count                  2.209400e+04                    22094.000000  \n",
              "mean                   1.054370e+05                    50402.908391  \n",
              "std                    2.412486e+05                    92815.508043  \n",
              "min                    0.000000e+00                        0.000000  \n",
              "25%                    8.815000e+03                     6056.000000  \n",
              "50%                    2.542350e+04                    15565.000000  \n",
              "75%                    7.645275e+04                    45547.750000  \n",
              "max                    4.346403e+06                   942370.000000  "
            ],
            "text/html": [
              "\n",
              "  <div id=\"df-c6e7d4a5-562a-4654-830a-41dcae896f12\">\n",
              "    <div class=\"colab-df-container\">\n",
              "      <div>\n",
              "<style scoped>\n",
              "    .dataframe tbody tr th:only-of-type {\n",
              "        vertical-align: middle;\n",
              "    }\n",
              "\n",
              "    .dataframe tbody tr th {\n",
              "        vertical-align: top;\n",
              "    }\n",
              "\n",
              "    .dataframe thead th {\n",
              "        text-align: right;\n",
              "    }\n",
              "</style>\n",
              "<table border=\"1\" class=\"dataframe\">\n",
              "  <thead>\n",
              "    <tr style=\"text-align: right;\">\n",
              "      <th></th>\n",
              "      <th>Survey_Year</th>\n",
              "      <th>UNITID</th>\n",
              "      <th>Male_Undergraduates</th>\n",
              "      <th>Female_Undergraduates</th>\n",
              "      <th>Total_Undergraduates</th>\n",
              "      <th>Total_Men_Team_Participation</th>\n",
              "      <th>Total_Women_Team_Participation</th>\n",
              "      <th>Men_Team_Average_Annual_Institutional_Salary_per_Head_Coach</th>\n",
              "      <th>Men_Team_Number_of_Head_Coaches_Included_in_Average</th>\n",
              "      <th>Women_Team_Average_Annual_Institutional_Salary_per_Head_Coach</th>\n",
              "      <th>Women_Team_Number_of_Head_Coaches_Included_in_Average</th>\n",
              "      <th>Men_Team_Athletic_Student_Aid</th>\n",
              "      <th>Women_Team_Athletic_Student_Aid</th>\n",
              "      <th>Men_Team_Recruiting_Expenses</th>\n",
              "      <th>Women_Team_Recruiting_Expenses</th>\n",
              "    </tr>\n",
              "  </thead>\n",
              "  <tbody>\n",
              "    <tr>\n",
              "      <th>count</th>\n",
              "      <td>22094.000000</td>\n",
              "      <td>22094.000000</td>\n",
              "      <td>22094.000000</td>\n",
              "      <td>22094.000000</td>\n",
              "      <td>22094.000000</td>\n",
              "      <td>22094.000000</td>\n",
              "      <td>22094.000000</td>\n",
              "      <td>2.209400e+04</td>\n",
              "      <td>22094.000000</td>\n",
              "      <td>22094.000000</td>\n",
              "      <td>22094.000000</td>\n",
              "      <td>2.209400e+04</td>\n",
              "      <td>2.209400e+04</td>\n",
              "      <td>2.209400e+04</td>\n",
              "      <td>22094.000000</td>\n",
              "    </tr>\n",
              "    <tr>\n",
              "      <th>mean</th>\n",
              "      <td>2011.598126</td>\n",
              "      <td>182451.087535</td>\n",
              "      <td>2262.556531</td>\n",
              "      <td>2671.679279</td>\n",
              "      <td>4934.235811</td>\n",
              "      <td>222.681995</td>\n",
              "      <td>165.513759</td>\n",
              "      <td>9.275838e+04</td>\n",
              "      <td>6.986422</td>\n",
              "      <td>44118.259437</td>\n",
              "      <td>7.766905</td>\n",
              "      <td>1.251497e+06</td>\n",
              "      <td>1.033249e+06</td>\n",
              "      <td>1.054370e+05</td>\n",
              "      <td>50402.908391</td>\n",
              "    </tr>\n",
              "    <tr>\n",
              "      <th>std</th>\n",
              "      <td>5.181042</td>\n",
              "      <td>42982.005758</td>\n",
              "      <td>3011.425843</td>\n",
              "      <td>3259.066512</td>\n",
              "      <td>6209.565446</td>\n",
              "      <td>114.535601</td>\n",
              "      <td>88.707469</td>\n",
              "      <td>1.909038e+05</td>\n",
              "      <td>2.429823</td>\n",
              "      <td>44277.055356</td>\n",
              "      <td>2.544881</td>\n",
              "      <td>1.773941e+06</td>\n",
              "      <td>1.480782e+06</td>\n",
              "      <td>2.412486e+05</td>\n",
              "      <td>92815.508043</td>\n",
              "    </tr>\n",
              "    <tr>\n",
              "      <th>min</th>\n",
              "      <td>2003.000000</td>\n",
              "      <td>100654.000000</td>\n",
              "      <td>0.000000</td>\n",
              "      <td>0.000000</td>\n",
              "      <td>0.000000</td>\n",
              "      <td>1.000000</td>\n",
              "      <td>1.000000</td>\n",
              "      <td>0.000000e+00</td>\n",
              "      <td>0.000000</td>\n",
              "      <td>1.000000</td>\n",
              "      <td>1.000000</td>\n",
              "      <td>0.000000e+00</td>\n",
              "      <td>0.000000e+00</td>\n",
              "      <td>0.000000e+00</td>\n",
              "      <td>0.000000</td>\n",
              "    </tr>\n",
              "    <tr>\n",
              "      <th>25%</th>\n",
              "      <td>2007.000000</td>\n",
              "      <td>153126.000000</td>\n",
              "      <td>546.000000</td>\n",
              "      <td>713.250000</td>\n",
              "      <td>1291.000000</td>\n",
              "      <td>133.000000</td>\n",
              "      <td>99.000000</td>\n",
              "      <td>2.428075e+04</td>\n",
              "      <td>5.000000</td>\n",
              "      <td>20160.500000</td>\n",
              "      <td>6.000000</td>\n",
              "      <td>0.000000e+00</td>\n",
              "      <td>0.000000e+00</td>\n",
              "      <td>8.815000e+03</td>\n",
              "      <td>6056.000000</td>\n",
              "    </tr>\n",
              "    <tr>\n",
              "      <th>50%</th>\n",
              "      <td>2012.000000</td>\n",
              "      <td>183026.000000</td>\n",
              "      <td>1002.000000</td>\n",
              "      <td>1330.000000</td>\n",
              "      <td>2336.000000</td>\n",
              "      <td>213.000000</td>\n",
              "      <td>151.000000</td>\n",
              "      <td>3.832450e+04</td>\n",
              "      <td>7.000000</td>\n",
              "      <td>31906.500000</td>\n",
              "      <td>8.000000</td>\n",
              "      <td>6.249295e+05</td>\n",
              "      <td>4.894400e+05</td>\n",
              "      <td>2.542350e+04</td>\n",
              "      <td>15565.000000</td>\n",
              "    </tr>\n",
              "    <tr>\n",
              "      <th>75%</th>\n",
              "      <td>2016.000000</td>\n",
              "      <td>213507.000000</td>\n",
              "      <td>2623.750000</td>\n",
              "      <td>3274.000000</td>\n",
              "      <td>5838.750000</td>\n",
              "      <td>296.000000</td>\n",
              "      <td>216.000000</td>\n",
              "      <td>6.937625e+04</td>\n",
              "      <td>8.000000</td>\n",
              "      <td>51619.000000</td>\n",
              "      <td>9.000000</td>\n",
              "      <td>1.718409e+06</td>\n",
              "      <td>1.428965e+06</td>\n",
              "      <td>7.645275e+04</td>\n",
              "      <td>45547.750000</td>\n",
              "    </tr>\n",
              "    <tr>\n",
              "      <th>max</th>\n",
              "      <td>2020.000000</td>\n",
              "      <td>490805.000000</td>\n",
              "      <td>28482.000000</td>\n",
              "      <td>28928.000000</td>\n",
              "      <td>57410.000000</td>\n",
              "      <td>1006.000000</td>\n",
              "      <td>648.000000</td>\n",
              "      <td>2.624329e+06</td>\n",
              "      <td>23.000000</td>\n",
              "      <td>870241.000000</td>\n",
              "      <td>29.000000</td>\n",
              "      <td>1.563344e+07</td>\n",
              "      <td>1.344501e+07</td>\n",
              "      <td>4.346403e+06</td>\n",
              "      <td>942370.000000</td>\n",
              "    </tr>\n",
              "  </tbody>\n",
              "</table>\n",
              "</div>\n",
              "      <button class=\"colab-df-convert\" onclick=\"convertToInteractive('df-c6e7d4a5-562a-4654-830a-41dcae896f12')\"\n",
              "              title=\"Convert this dataframe to an interactive table.\"\n",
              "              style=\"display:none;\">\n",
              "        \n",
              "  <svg xmlns=\"http://www.w3.org/2000/svg\" height=\"24px\"viewBox=\"0 0 24 24\"\n",
              "       width=\"24px\">\n",
              "    <path d=\"M0 0h24v24H0V0z\" fill=\"none\"/>\n",
              "    <path d=\"M18.56 5.44l.94 2.06.94-2.06 2.06-.94-2.06-.94-.94-2.06-.94 2.06-2.06.94zm-11 1L8.5 8.5l.94-2.06 2.06-.94-2.06-.94L8.5 2.5l-.94 2.06-2.06.94zm10 10l.94 2.06.94-2.06 2.06-.94-2.06-.94-.94-2.06-.94 2.06-2.06.94z\"/><path d=\"M17.41 7.96l-1.37-1.37c-.4-.4-.92-.59-1.43-.59-.52 0-1.04.2-1.43.59L10.3 9.45l-7.72 7.72c-.78.78-.78 2.05 0 2.83L4 21.41c.39.39.9.59 1.41.59.51 0 1.02-.2 1.41-.59l7.78-7.78 2.81-2.81c.8-.78.8-2.07 0-2.86zM5.41 20L4 18.59l7.72-7.72 1.47 1.35L5.41 20z\"/>\n",
              "  </svg>\n",
              "      </button>\n",
              "      \n",
              "  <style>\n",
              "    .colab-df-container {\n",
              "      display:flex;\n",
              "      flex-wrap:wrap;\n",
              "      gap: 12px;\n",
              "    }\n",
              "\n",
              "    .colab-df-convert {\n",
              "      background-color: #E8F0FE;\n",
              "      border: none;\n",
              "      border-radius: 50%;\n",
              "      cursor: pointer;\n",
              "      display: none;\n",
              "      fill: #1967D2;\n",
              "      height: 32px;\n",
              "      padding: 0 0 0 0;\n",
              "      width: 32px;\n",
              "    }\n",
              "\n",
              "    .colab-df-convert:hover {\n",
              "      background-color: #E2EBFA;\n",
              "      box-shadow: 0px 1px 2px rgba(60, 64, 67, 0.3), 0px 1px 3px 1px rgba(60, 64, 67, 0.15);\n",
              "      fill: #174EA6;\n",
              "    }\n",
              "\n",
              "    [theme=dark] .colab-df-convert {\n",
              "      background-color: #3B4455;\n",
              "      fill: #D2E3FC;\n",
              "    }\n",
              "\n",
              "    [theme=dark] .colab-df-convert:hover {\n",
              "      background-color: #434B5C;\n",
              "      box-shadow: 0px 1px 3px 1px rgba(0, 0, 0, 0.15);\n",
              "      filter: drop-shadow(0px 1px 2px rgba(0, 0, 0, 0.3));\n",
              "      fill: #FFFFFF;\n",
              "    }\n",
              "  </style>\n",
              "\n",
              "      <script>\n",
              "        const buttonEl =\n",
              "          document.querySelector('#df-c6e7d4a5-562a-4654-830a-41dcae896f12 button.colab-df-convert');\n",
              "        buttonEl.style.display =\n",
              "          google.colab.kernel.accessAllowed ? 'block' : 'none';\n",
              "\n",
              "        async function convertToInteractive(key) {\n",
              "          const element = document.querySelector('#df-c6e7d4a5-562a-4654-830a-41dcae896f12');\n",
              "          const dataTable =\n",
              "            await google.colab.kernel.invokeFunction('convertToInteractive',\n",
              "                                                     [key], {});\n",
              "          if (!dataTable) return;\n",
              "\n",
              "          const docLinkHtml = 'Like what you see? Visit the ' +\n",
              "            '<a target=\"_blank\" href=https://colab.research.google.com/notebooks/data_table.ipynb>data table notebook</a>'\n",
              "            + ' to learn more about interactive tables.';\n",
              "          element.innerHTML = '';\n",
              "          dataTable['output_type'] = 'display_data';\n",
              "          await google.colab.output.renderOutput(dataTable, element);\n",
              "          const docLink = document.createElement('div');\n",
              "          docLink.innerHTML = docLinkHtml;\n",
              "          element.appendChild(docLink);\n",
              "        }\n",
              "      </script>\n",
              "    </div>\n",
              "  </div>\n",
              "  "
            ]
          },
          "metadata": {},
          "execution_count": 36
        }
      ]
    },
    {
      "cell_type": "markdown",
      "source": [
        "# Hypotheses\n",
        "1. There is no significant difference in the average overall amount of financial aid received by male athletes versus female athletes. \n",
        "2. There is no significant difference in the average overall amount of recruitment expenses spent on male teams versus female teams.\n",
        "3. There is no significant difference in the average head coach salary in men’s teams versus women’s teams.\n",
        "\n"
      ],
      "metadata": {
        "id": "_BCyVQccV5Tp"
      }
    },
    {
      "cell_type": "markdown",
      "source": [
        "### Hypothesis 1 testing"
      ],
      "metadata": {
        "id": "Ct_VCJtpcBHN"
      }
    },
    {
      "cell_type": "markdown",
      "source": [
        "Scatterplot: Checking Correlation of Sample Populations"
      ],
      "metadata": {
        "id": "Axcp1UFmh5lf"
      }
    },
    {
      "cell_type": "code",
      "source": [
        "sns.scatterplot(x=\"Men_Team_Athletic_Student_Aid\", y=\"Women_Team_Athletic_Student_Aid\", data=df)"
      ],
      "metadata": {
        "colab": {
          "base_uri": "https://localhost:8080/",
          "height": 313
        },
        "id": "PEE6hLbsf-q9",
        "outputId": "f9061bd6-e523-4d10-d59e-584e837a9111"
      },
      "execution_count": null,
      "outputs": [
        {
          "output_type": "execute_result",
          "data": {
            "text/plain": [
              "<matplotlib.axes._subplots.AxesSubplot at 0x7f600ca24390>"
            ]
          },
          "metadata": {},
          "execution_count": 37
        },
        {
          "output_type": "display_data",
          "data": {
            "text/plain": [
              "<Figure size 432x288 with 1 Axes>"
            ],
            "image/png": "[encoded data removed]"
          },
          "metadata": {}
        }
      ]
    },
    {
      "cell_type": "markdown",
      "source": [
        "Histograms: Checking Distribution of Sample Populations\n"
      ],
      "metadata": {
        "id": "Hiqs3lO6ip2L"
      }
    },
    {
      "cell_type": "code",
      "source": [
        "# distribution first sample population\n",
        "sns.distplot(df['Men_Team_Athletic_Student_Aid'])"
      ],
      "metadata": {
        "colab": {
          "base_uri": "https://localhost:8080/",
          "height": 313
        },
        "id": "0wn2JBv__ooN",
        "outputId": "76419716-b62d-4039-d5dd-ab883d1dd9cb"
      },
      "execution_count": null,
      "outputs": [
        {
          "output_type": "execute_result",
          "data": {
            "text/plain": [
              "<matplotlib.axes._subplots.AxesSubplot at 0x7f600c9ceb90>"
            ]
          },
          "metadata": {},
          "execution_count": 38
        },
        {
          "output_type": "display_data",
          "data": {
            "text/plain": [
              "<Figure size 432x288 with 1 Axes>"
            ],
            "image/png": "[encoded data removed]"
          },
          "metadata": {}
        }
      ]
    },
    {
      "cell_type": "code",
      "source": [
        "# distribution second sample population\n",
        "sns.distplot(df['Women_Team_Athletic_Student_Aid'])"
      ],
      "metadata": {
        "colab": {
          "base_uri": "https://localhost:8080/",
          "height": 313
        },
        "id": "BwHkeYx1xE6h",
        "outputId": "61deddc8-fecd-48e9-c5f9-8fd6cf74b84b"
      },
      "execution_count": null,
      "outputs": [
        {
          "output_type": "execute_result",
          "data": {
            "text/plain": [
              "<matplotlib.axes._subplots.AxesSubplot at 0x7f600c948cd0>"
            ]
          },
          "metadata": {},
          "execution_count": 39
        },
        {
          "output_type": "display_data",
          "data": {
            "text/plain": [
              "<Figure size 432x288 with 1 Axes>"
            ],
            "image/png": "[encoded data removed]"
          },
          "metadata": {}
        }
      ]
    },
    {
      "cell_type": "markdown",
      "source": [
        "Run an independent-samples t-test on the DataFrames to see if there is a significant difference between financial aid receieved by male athletes versus female athletes."
      ],
      "metadata": {
        "id": "BeeK_nJTcwFS"
      }
    },
    {
      "cell_type": "code",
      "source": [
        "stats.ttest_ind(df['Men_Team_Athletic_Student_Aid'], df['Women_Team_Athletic_Student_Aid'])"
      ],
      "metadata": {
        "colab": {
          "base_uri": "https://localhost:8080/"
        },
        "id": "lFPeF7Iwc3U_",
        "outputId": "64f82c86-6384-4627-cad3-380ce8e27e81"
      },
      "execution_count": null,
      "outputs": [
        {
          "output_type": "execute_result",
          "data": {
            "text/plain": [
              "Ttest_indResult(statistic=14.038920034959055, pvalue=1.1239169536498698e-44)"
            ]
          },
          "metadata": {},
          "execution_count": 40
        }
      ]
    },
    {
      "cell_type": "markdown",
      "source": [
        "Finding 95% Confidence Intervals:"
      ],
      "metadata": {
        "id": "2-emfdAmAr9E"
      }
    },
    {
      "cell_type": "code",
      "source": [
        "# Defining 95% confidence interval function\n",
        "def get_95_ci(array_1, array_2):\n",
        "    sample_1_n = array_1.shape[0]\n",
        "    sample_2_n = array_2.shape[0]\n",
        "    sample_1_mean = array_1.mean()\n",
        "    sample_2_mean = array_2.mean()\n",
        "    sample_1_var = array_1.var()\n",
        "    sample_2_var = array_2.var()\n",
        "    mean_difference = sample_2_mean - sample_1_mean\n",
        "\n",
        "    import math\n",
        "    std_err_difference = math.sqrt((sample_1_var/sample_1_n)+(sample_2_var/sample_2_n))\n",
        "    margin_of_error = 1.96 * std_err_difference\n",
        "    ci_lower = mean_difference - margin_of_error\n",
        "    ci_upper = mean_difference + margin_of_error\n",
        "    return(\"The difference in means at the 95% confidence interval (two-tail) is between \"+str(ci_lower)+\" and \"+str(ci_upper)+\".\")"
      ],
      "metadata": {
        "id": "CCpgj15TApea"
      },
      "execution_count": null,
      "outputs": []
    },
    {
      "cell_type": "code",
      "source": [
        "# Plugging in Hypothesis 1 sample populations and t-test\n",
        "get_95_ci(df['Men_Team_Athletic_Student_Aid'], df['Women_Team_Athletic_Student_Aid'])"
      ],
      "metadata": {
        "colab": {
          "base_uri": "https://localhost:8080/",
          "height": 36
        },
        "id": "5KrVxXiMA5Vg",
        "outputId": "64f1488b-0019-49b8-b5d8-24da4f524c79"
      },
      "execution_count": null,
      "outputs": [
        {
          "output_type": "execute_result",
          "data": {
            "text/plain": [
              "'The difference in means at the 95% confidence interval (two-tail) is between -248717.89883061894 and -187777.9003003668.'"
            ],
            "application/vnd.google.colaboratory.intrinsic+json": {
              "type": "string"
            }
          },
          "metadata": {},
          "execution_count": 42
        }
      ]
    },
    {
      "cell_type": "markdown",
      "source": [
        "###Summary of Findings for Hypothesis 1\n",
        "The t-test shows that we reject the null hypothesis because the p-value is less than .05 at 1.12e-44. This means that there is a significant difference between financial aid received by male athletes versus female athletes with 95% confidence interval between 248,717 and 187,777.\n"
      ],
      "metadata": {
        "id": "vaKrHEias6vO"
      }
    },
    {
      "cell_type": "markdown",
      "source": [
        "### Hypothesis 2 testing"
      ],
      "metadata": {
        "id": "LKdv-a822iQn"
      }
    },
    {
      "cell_type": "markdown",
      "source": [
        "Scatterplot: Checking Correlation of Sample Populations"
      ],
      "metadata": {
        "id": "HMBCVOQx2myr"
      }
    },
    {
      "cell_type": "code",
      "source": [
        "sns.scatterplot(x='Men_Team_Recruiting_Expenses', y='Women_Team_Recruiting_Expenses', data=df)"
      ],
      "metadata": {
        "colab": {
          "base_uri": "https://localhost:8080/",
          "height": 302
        },
        "id": "Zap0-IAK2nT6",
        "outputId": "40ce7af6-e492-42b3-9903-f0b6bab62633"
      },
      "execution_count": null,
      "outputs": [
        {
          "output_type": "execute_result",
          "data": {
            "text/plain": [
              "<matplotlib.axes._subplots.AxesSubplot at 0x7f600ca83890>"
            ]
          },
          "metadata": {},
          "execution_count": 43
        },
        {
          "output_type": "display_data",
          "data": {
            "text/plain": [
              "<Figure size 432x288 with 1 Axes>"
            ],
            "image/png": "[encoded data removed]"
          },
          "metadata": {}
        }
      ]
    },
    {
      "cell_type": "markdown",
      "source": [
        "Histograms: Checking Distribution of Sample Populations\n"
      ],
      "metadata": {
        "id": "_Wc-6ko4224-"
      }
    },
    {
      "cell_type": "code",
      "source": [
        "# distribution first sample population\n",
        "sns.distplot(df['Men_Team_Recruiting_Expenses'])"
      ],
      "metadata": {
        "colab": {
          "base_uri": "https://localhost:8080/",
          "height": 313
        },
        "id": "Ti9IHkik23h1",
        "outputId": "7d7dba3b-9e50-4662-dfe1-05dcea4fc1c3"
      },
      "execution_count": null,
      "outputs": [
        {
          "output_type": "execute_result",
          "data": {
            "text/plain": [
              "<matplotlib.axes._subplots.AxesSubplot at 0x7f600c5872d0>"
            ]
          },
          "metadata": {},
          "execution_count": 44
        },
        {
          "output_type": "display_data",
          "data": {
            "text/plain": [
              "<Figure size 432x288 with 1 Axes>"
            ],
            "image/png": "[encoded data removed]"
          },
          "metadata": {}
        }
      ]
    },
    {
      "cell_type": "code",
      "source": [
        "# distribution second sample population\n",
        "sns.distplot(df['Women_Team_Recruiting_Expenses'])"
      ],
      "metadata": {
        "colab": {
          "base_uri": "https://localhost:8080/",
          "height": 313
        },
        "id": "1gOCtWQp3BrP",
        "outputId": "91b3c5db-03d8-4f64-de23-c0b1d5b5746e"
      },
      "execution_count": null,
      "outputs": [
        {
          "output_type": "execute_result",
          "data": {
            "text/plain": [
              "<matplotlib.axes._subplots.AxesSubplot at 0x7f600cd61250>"
            ]
          },
          "metadata": {},
          "execution_count": 45
        },
        {
          "output_type": "display_data",
          "data": {
            "text/plain": [
              "<Figure size 432x288 with 1 Axes>"
            ],
            "image/png": "[encoded data removed]"
          },
          "metadata": {}
        }
      ]
    },
    {
      "cell_type": "markdown",
      "source": [
        "Run an independent-samples t-test on the DataFrames to see if there is a significant difference between recruitment funds spent on male athletes versus female athletes."
      ],
      "metadata": {
        "id": "YC_5JsHo3dmH"
      }
    },
    {
      "cell_type": "code",
      "source": [
        "stats.ttest_ind(df['Men_Team_Recruiting_Expenses'], df['Women_Team_Recruiting_Expenses'])"
      ],
      "metadata": {
        "colab": {
          "base_uri": "https://localhost:8080/"
        },
        "id": "LtSTVbvO3knN",
        "outputId": "33c21439-19a4-4f1e-9661-15474965f832"
      },
      "execution_count": null,
      "outputs": [
        {
          "output_type": "execute_result",
          "data": {
            "text/plain": [
              "Ttest_indResult(statistic=31.646798229410095, pvalue=2.274162118324736e-217)"
            ]
          },
          "metadata": {},
          "execution_count": 46
        }
      ]
    },
    {
      "cell_type": "markdown",
      "source": [
        "Finding 95% Confidence Intervals:"
      ],
      "metadata": {
        "id": "mqLj_n4U3uTz"
      }
    },
    {
      "cell_type": "code",
      "source": [
        "# Plugging in Hypothesis 2 sample populations and t-test\n",
        "get_95_ci(df['Men_Team_Recruiting_Expenses'], df['Women_Team_Recruiting_Expenses'])"
      ],
      "metadata": {
        "colab": {
          "base_uri": "https://localhost:8080/",
          "height": 36
        },
        "id": "bjyIQ0IW3wpT",
        "outputId": "20f457f2-0226-40bc-d31c-d6ec519aaf79"
      },
      "execution_count": null,
      "outputs": [
        {
          "output_type": "execute_result",
          "data": {
            "text/plain": [
              "'The difference in means at the 95% confidence interval (two-tail) is between -58442.52006314844 and -51625.605310256105.'"
            ],
            "application/vnd.google.colaboratory.intrinsic+json": {
              "type": "string"
            }
          },
          "metadata": {},
          "execution_count": 47
        }
      ]
    },
    {
      "cell_type": "markdown",
      "source": [
        "###Summary of Findings for Hypothesis 2\n",
        "The t-test shows that we reject the null hypothesis because the p-value is less than .05 at 2.27e-217. This means that there is a significant difference between recruitment money spent on male athletes versus female athletes with 95% confidence interval between 58442 and 51625."
      ],
      "metadata": {
        "id": "xjf4K5TW4EZb"
      }
    },
    {
      "cell_type": "markdown",
      "source": [
        "### Hypothesis 3 testing"
      ],
      "metadata": {
        "id": "I9-sCJsG4e7e"
      }
    },
    {
      "cell_type": "markdown",
      "source": [
        "Scatterplot: Checking Correlation of Sample Populations"
      ],
      "metadata": {
        "id": "N3o00taG4nwK"
      }
    },
    {
      "cell_type": "code",
      "source": [
        "sns.scatterplot(x='Men_Team_Average_Annual_Institutional_Salary_per_Head_Coach', y='Women_Team_Average_Annual_Institutional_Salary_per_Head_Coach', data=df)"
      ],
      "metadata": {
        "colab": {
          "base_uri": "https://localhost:8080/",
          "height": 463
        },
        "id": "72yndFbp4qa6",
        "outputId": "4f339244-441e-483c-87a4-d5b4aa261c0c"
      },
      "execution_count": null,
      "outputs": [
        {
          "output_type": "execute_result",
          "data": {
            "text/plain": [
              "<matplotlib.axes._subplots.AxesSubplot at 0x7f600cccded0>"
            ]
          },
          "metadata": {},
          "execution_count": 48
        },
        {
          "output_type": "display_data",
          "data": {
            "text/plain": [
              "<Figure size 432x288 with 1 Axes>"
            ],
            "image/png": "[encoded data removed]"
          },
          "metadata": {}
        }
      ]
    },
    {
      "cell_type": "markdown",
      "source": [
        "Histograms: Checking Distribution of Sample Populations\n"
      ],
      "metadata": {
        "id": "_5J5i5Ji46Dh"
      }
    },
    {
      "cell_type": "code",
      "source": [
        "# distribution first sample population\n",
        "sns.distplot(df['Men_Team_Average_Annual_Institutional_Salary_per_Head_Coach'])"
      ],
      "metadata": {
        "colab": {
          "base_uri": "https://localhost:8080/",
          "height": 313
        },
        "id": "qeeW5Fji46jC",
        "outputId": "08722b61-1830-4962-eba3-dfa78dd22a5f"
      },
      "execution_count": null,
      "outputs": [
        {
          "output_type": "execute_result",
          "data": {
            "text/plain": [
              "<matplotlib.axes._subplots.AxesSubplot at 0x7f600ccd8990>"
            ]
          },
          "metadata": {},
          "execution_count": 49
        },
        {
          "output_type": "display_data",
          "data": {
            "text/plain": [
              "<Figure size 432x288 with 1 Axes>"
            ],
            "image/png": "[encoded data removed]"
          },
          "metadata": {}
        }
      ]
    },
    {
      "cell_type": "code",
      "source": [
        "# distribution second sample population\n",
        "sns.distplot(df['Women_Team_Average_Annual_Institutional_Salary_per_Head_Coach'])"
      ],
      "metadata": {
        "colab": {
          "base_uri": "https://localhost:8080/",
          "height": 313
        },
        "id": "K3YkYMBt5Bc8",
        "outputId": "81067292-3f10-4fb3-f340-445bf6996df5"
      },
      "execution_count": null,
      "outputs": [
        {
          "output_type": "execute_result",
          "data": {
            "text/plain": [
              "<matplotlib.axes._subplots.AxesSubplot at 0x7f600c8ff910>"
            ]
          },
          "metadata": {},
          "execution_count": 50
        },
        {
          "output_type": "display_data",
          "data": {
            "text/plain": [
              "<Figure size 432x288 with 1 Axes>"
            ],
            "image/png": "[encoded data removed]"
          },
          "metadata": {}
        }
      ]
    },
    {
      "cell_type": "markdown",
      "source": [
        "Run an independent-samples t-test on the DataFrames to see if there is a significant difference between head coach salaries of male teams versus female teams."
      ],
      "metadata": {
        "id": "Drmw4Rhy5L7A"
      }
    },
    {
      "cell_type": "code",
      "source": [
        "stats.ttest_ind(df['Men_Team_Average_Annual_Institutional_Salary_per_Head_Coach'], df['Women_Team_Average_Annual_Institutional_Salary_per_Head_Coach'])"
      ],
      "metadata": {
        "colab": {
          "base_uri": "https://localhost:8080/"
        },
        "id": "xa8Ggz2x5TAN",
        "outputId": "3bf20453-943f-4eed-a2b1-022e7b7e6893"
      },
      "execution_count": null,
      "outputs": [
        {
          "output_type": "execute_result",
          "data": {
            "text/plain": [
              "Ttest_indResult(statistic=36.892612191718186, pvalue=1.7798086203559835e-293)"
            ]
          },
          "metadata": {},
          "execution_count": 51
        }
      ]
    },
    {
      "cell_type": "markdown",
      "source": [
        "Finding 95% Confidence Intervals:"
      ],
      "metadata": {
        "id": "1SXkhWMT5giN"
      }
    },
    {
      "cell_type": "code",
      "source": [
        "# Plugging in Hypothesis 3 sample populations and t-test\n",
        "get_95_ci(df['Men_Team_Average_Annual_Institutional_Salary_per_Head_Coach'], df['Women_Team_Average_Annual_Institutional_Salary_per_Head_Coach'])"
      ],
      "metadata": {
        "colab": {
          "base_uri": "https://localhost:8080/",
          "height": 36
        },
        "id": "v5lgzVke5hFW",
        "outputId": "6bc742ab-5fc3-4b27-b008-1c2a5aa71717"
      },
      "execution_count": null,
      "outputs": [
        {
          "output_type": "execute_result",
          "data": {
            "text/plain": [
              "'The difference in means at the 95% confidence interval (two-tail) is between -51224.22899341741 and -46056.00564041983.'"
            ],
            "application/vnd.google.colaboratory.intrinsic+json": {
              "type": "string"
            }
          },
          "metadata": {},
          "execution_count": 52
        }
      ]
    },
    {
      "cell_type": "markdown",
      "source": [
        "###Summary of Findings for Hypothesis 3\n",
        "The t-test shows that we reject the null hypothesis because the p-value is less than .05 at 1.77e-293. This means that there is a significant difference between head coach salaries of male teams versus female teams with 95% confidence interval between 51224 and 46056."
      ],
      "metadata": {
        "id": "kCS_3Q3n5vc-"
      }
    },
    {
      "cell_type": "markdown",
      "source": [
        "# Results"
      ],
      "metadata": {
        "id": "MLvl0BMS6SVX"
      }
    },
    {
      "cell_type": "markdown",
      "source": [
        "Based on the t-tests, we reject each null hypothesis with p-values less than .05, meaning we found signficant difference between financial aid received by male athletes versus female athletes, recruitment money spent on male athletes versus female athletes, and head coach salaries of male team versus female teams.\n",
        "With 95% Confidence:\n",
        "\n",
        "1.   Financial Aid received between 248,717 and 187,777.\n",
        "2.   Recruitment Money Spent between 58,442 and 51,625\n",
        "3.   Head Coach Salaries between 51,224 and 46,056"
      ],
      "metadata": {
        "id": "nv00Of5G6b9F"
      }
    },
    {
      "cell_type": "markdown",
      "source": [
        "#What Does This Mean?"
      ],
      "metadata": {
        "id": "oORsE6nI6Y6F"
      }
    },
    {
      "cell_type": "markdown",
      "source": [
        "Analyzing the data of 1,271 collegiate institutions in the United States from 2003 - 2021 we have found that these institutions have done a poor job of equitably dispersing monetary funds to athletes and coaches in regards to gender. More analysis and research needs to be conducted in order to find where the exact discrepancies lie in terms of monetary funds so this inequity can be addressed and corrected. "
      ],
      "metadata": {
        "id": "MVRm06nr7sgz"
      }
    }
  ]
}